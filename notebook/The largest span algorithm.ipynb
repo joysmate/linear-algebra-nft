{
 "cells": [
  {
   "cell_type": "markdown",
   "id": "586834a8",
   "metadata": {},
   "source": [
    "## The Largest Span Algorithm\n",
    "\n",
    "### Theorem 1\n",
    "\n",
    "Given a pair of matrices **A**,**B**, for any **C** in the span **s(A,B)**, it can be represented as a sequential product of a series of **A**s and **B**s.\n",
    "\n",
    "**Proof** Each **C** is the root of a tree representing how we reach **C** through matrix multiplications. Then based on the associative property of matrix multiplication, we prove 1.\n",
    "\n",
    "### Theorem 2\n",
    "\n",
    "Given a pair of matrices **A**,**B**, for any **C** in the span **s(A,B)**, **|s(A,B)|** >= **|s(A,C)|**.\n",
    "\n",
    "**Obvious Proof**\n",
    "\n",
    "### The algorithm\n",
    "\n",
    "We first solve a sub-problem, where given a matrix **A**, we want to find the **B_max** where **s(A,B_max)** is the largest. The code is as follows:"
   ]
  },
  {
   "cell_type": "code",
   "execution_count": null,
   "id": "7e3c708a",
   "metadata": {},
   "outputs": [],
   "source": [
    "from matrix import Matrix\n",
    "\n",
    "N = 19683\n",
    "\n",
    "def span(x, y, mark):\n",
    "    \"\"\"\n",
    "    get the span size of x and y using BFS\n",
    "    mark[z] equals y if z is in the span of (x, y)\n",
    "    note that mark is not initialized each time we call span for branch-cutting\n",
    "    \"\"\"\n",
    "    q = [x, y] # initialize the queue with x and y as seeds\n",
    "    mark[x] = mark[y] = y\n",
    "    cnt = 2\n",
    "    i = 0\n",
    "    while i < len(q):\n",
    "        u = q[i]\n",
    "        for v in [x, y]: # based on Theorem 1, we only need to multiply x and y\n",
    "            w = (Matrix(idx=u) * Matrix(idx=v)).idx()\n",
    "            if mark[w] != y:\n",
    "                mark[w] = y\n",
    "                cnt += 1\n",
    "                q.append(w)\n",
    "        i += 1    \n",
    "    return cnt\n",
    "\n",
    "def largest_span_of_a(a):\n",
    "    largest = -1\n",
    "    largest_b = -1\n",
    "    mark = [-1] * N\n",
    "    \n",
    "    for b in range(a+1, N):\n",
    "        if mark[b] > -1:\n",
    "            continue # b is in the span of a and some other b', based on Theorem 2, we can skip b\n",
    "        else:\n",
    "            cnt = span(a, b, mark)\n",
    "            if cnt > largest:\n",
    "                largest, largest_b = cnt, b\n",
    "                \n",
    "    return largest_b, largest\n",
    "\n",
    "largest_span_of_a(999)"
   ]
  },
  {
   "cell_type": "markdown",
   "id": "a0b0ce58",
   "metadata": {},
   "source": [
    "Then we can use multiprocessing to get the largest span of **A**s from **0** to **N-1** in parallel, and finally aggregate the largest."
   ]
  }
 ],
 "metadata": {
  "kernelspec": {
   "display_name": "m",
   "language": "python",
   "name": "m"
  },
  "language_info": {
   "codemirror_mode": {
    "name": "ipython",
    "version": 3
   },
   "file_extension": ".py",
   "mimetype": "text/x-python",
   "name": "python",
   "nbconvert_exporter": "python",
   "pygments_lexer": "ipython3",
   "version": "3.8.11"
  }
 },
 "nbformat": 4,
 "nbformat_minor": 5
}
